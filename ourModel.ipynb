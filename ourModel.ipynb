{
 "cells": [
  {
   "cell_type": "code",
   "execution_count": 1,
   "metadata": {},
   "outputs": [],
   "source": [
    "from syserol.tensor import perform_CMTF\n",
    "from syserol.dataImport import createCube, importFunction, load_file, importGlycan\n",
    "from sklearn.linear_model import ElasticNetCV, ElasticNet, LogisticRegressionCV\n",
    "from sklearn.model_selection import cross_val_predict\n",
    "from sklearn.metrics import r2_score, confusion_matrix\n",
    "from scipy.stats import zscore\n",
    "from tensorly.kruskal_tensor import kruskal_to_tensor\n",
    "from syserol.figures.common import subplotLabel, getSetup\n",
    "import pandas as pd\n",
    "import numpy as np"
   ]
  },
  {
   "cell_type": "code",
   "execution_count": 2,
   "metadata": {},
   "outputs": [
    {
     "name": "stdout",
     "output_type": "stream",
     "text": [
      "Missingness fraction: 0.4268292682926829\n"
     ]
    },
    {
     "data": {
      "text/plain": [
       "array([[-1.03527393, -0.83057958, -1.95513324, ..., -2.06211608,\n",
       "         0.94096582, -1.01671425],\n",
       "       [ 1.19985752,  0.40778693,  1.231612  , ..., -0.66810571,\n",
       "         0.94096582, -1.01671425],\n",
       "       [        nan,         nan,         nan, ..., -1.23048154,\n",
       "         0.94096582, -1.01671425],\n",
       "       ...,\n",
       "       [        nan,         nan,         nan, ...,  0.35183953,\n",
       "         0.94096582,  0.98356052],\n",
       "       [-0.52179779, -2.701029  , -1.6076424 , ..., -2.01013892,\n",
       "         0.94096582,  0.98356052],\n",
       "       [ 0.36923435, -0.25009528, -1.05674229, ..., -2.28195391,\n",
       "         0.94096582,  0.98356052]])"
      ]
     },
     "execution_count": 2,
     "metadata": {},
     "output_type": "execute_result"
    }
   ],
   "source": [
    "cube, glyCube = createCube()\n",
    "glyCube"
   ]
  },
  {
   "cell_type": "code",
   "execution_count": 13,
   "metadata": {},
   "outputs": [
    {
     "name": "stdout",
     "output_type": "stream",
     "text": [
      "R2X: 0.8473334180482658\n"
     ]
    }
   ],
   "source": [
    "recon = impute(cube, 16)"
   ]
  },
  {
   "cell_type": "code",
   "execution_count": 10,
   "metadata": {},
   "outputs": [
    {
     "name": "stderr",
     "output_type": "stream",
     "text": [
      "/usr/local/lib/python3.8/dist-packages/tensorly/decomposition/candecomp_parafac.py:219: Warning: Masking occurs after initialization. Therefore, random initialization is recommended.\n",
      "  warnings.warn(message, Warning)\n",
      "/usr/local/lib/python3.8/dist-packages/numpy/lib/function_base.py:792: VisibleDeprecationWarning: Creating an ndarray from ragged nested sequences (which is a list-or-tuple of lists-or-tuples-or ndarrays with different lengths or shapes) is deprecated. If you meant to do this, you must specify 'dtype=object' when creating the ndarray\n",
      "  return array(a, order=order, subok=subok, copy=True)\n"
     ]
    },
    {
     "name": "stdout",
     "output_type": "stream",
     "text": [
      "R2X: 0.8473334180482658\n"
     ]
    }
   ],
   "source": [
    "factors = perform_decomposition(cube, 16)"
   ]
  },
  {
   "cell_type": "code",
   "execution_count": null,
   "metadata": {},
   "outputs": [],
   "source": [
    "def function_predictions(function = 'ADCD'):\n",
    "    \"\"\" Predict Function using Factorized Antigen Data\"\"\"\n",
    "    cube, glyCube = createCube()\n",
    "    tensorFac, matrixFac, R2XX = perform_CMTF(cube, glyCube, 1)\n",
    "    func = importFunction(cube, glyCube)\n",
    "        \n",
    "    df = pd.DataFrame(factors[0])\n",
    "    df = df.join(func, how = 'inner')\n",
    "    df = df.dropna()\n",
    "    df_func = df[[\"ADCD\", \"ADCC\", \"ADNP\", \"CD107a\", \"IFNy\", \"MIP1b\"]]\n",
    "    df_variables = df.drop(['subject','ADCD', 'ADCC', 'ADNP', 'CD107a', 'IFNy', 'MIP1b'], axis = 1)\n",
    "\n",
    "    X = df_variables\n",
    "    Y = df_func[function]\n",
    "    regr = ElasticNetCV(normalize=True, max_iter = 10000)\n",
    "    model = regr.fit(X, Y)\n",
    "    Y_pred = cross_val_predict(ElasticNet(alpha = regr.alpha_, normalize = True, max_iter = 10000), X, Y, cv = 10)\n",
    "\n",
    "    print(model.coef_)\n",
    "    print(np.sqrt(r2_score(Y, Y_pred)))\n",
    "    \n",
    "    return Y, Y_pred, np.sqrt(r2_score(Y, Y_pred))"
   ]
  },
  {
   "cell_type": "code",
   "execution_count": 1,
   "metadata": {},
   "outputs": [
    {
     "ename": "ImportError",
     "evalue": "cannot import name 'impute' from 'syserol.tensor' (/home/murphym/systemsSerology/syserol/tensor.py)",
     "output_type": "error",
     "traceback": [
      "\u001b[0;31m---------------------------------------------------------------------------\u001b[0m",
      "\u001b[0;31mImportError\u001b[0m                               Traceback (most recent call last)",
      "\u001b[0;32m<ipython-input-1-abcc9f108221>\u001b[0m in \u001b[0;36m<module>\u001b[0;34m\u001b[0m\n\u001b[0;32m----> 1\u001b[0;31m \u001b[0;32mfrom\u001b[0m \u001b[0msyserol\u001b[0m\u001b[0;34m.\u001b[0m\u001b[0mmodel\u001b[0m \u001b[0;32mimport\u001b[0m \u001b[0mfunction_predictions\u001b[0m\u001b[0;34m\u001b[0m\u001b[0;34m\u001b[0m\u001b[0m\n\u001b[0m\u001b[1;32m      2\u001b[0m \u001b[0mfunction_predictions\u001b[0m\u001b[0;34m(\u001b[0m\u001b[0;34m'ADCD'\u001b[0m\u001b[0;34m)\u001b[0m\u001b[0;34m\u001b[0m\u001b[0;34m\u001b[0m\u001b[0m\n",
      "\u001b[0;32m~/systemsSerology/syserol/model.py\u001b[0m in \u001b[0;36m<module>\u001b[0;34m\u001b[0m\n\u001b[1;32m      2\u001b[0m \u001b[0;32mimport\u001b[0m \u001b[0mpandas\u001b[0m \u001b[0;32mas\u001b[0m \u001b[0mpd\u001b[0m\u001b[0;34m\u001b[0m\u001b[0;34m\u001b[0m\u001b[0m\n\u001b[1;32m      3\u001b[0m \u001b[0;32mimport\u001b[0m \u001b[0mnumpy\u001b[0m \u001b[0;32mas\u001b[0m \u001b[0mnp\u001b[0m\u001b[0;34m\u001b[0m\u001b[0;34m\u001b[0m\u001b[0m\n\u001b[0;32m----> 4\u001b[0;31m \u001b[0;32mfrom\u001b[0m \u001b[0msyserol\u001b[0m\u001b[0;34m.\u001b[0m\u001b[0mtensor\u001b[0m \u001b[0;32mimport\u001b[0m \u001b[0mimpute\u001b[0m\u001b[0;34m,\u001b[0m \u001b[0mperform_decomposition\u001b[0m\u001b[0;34m\u001b[0m\u001b[0;34m\u001b[0m\u001b[0m\n\u001b[0m\u001b[1;32m      5\u001b[0m \u001b[0;32mfrom\u001b[0m \u001b[0msyserol\u001b[0m\u001b[0;34m.\u001b[0m\u001b[0mdataImport\u001b[0m \u001b[0;32mimport\u001b[0m \u001b[0mcreateCube\u001b[0m\u001b[0;34m,\u001b[0m \u001b[0mimportFunction\u001b[0m\u001b[0;34m,\u001b[0m \u001b[0mload_file\u001b[0m\u001b[0;34m\u001b[0m\u001b[0;34m\u001b[0m\u001b[0m\n\u001b[1;32m      6\u001b[0m \u001b[0;32mfrom\u001b[0m \u001b[0msklearn\u001b[0m\u001b[0;34m.\u001b[0m\u001b[0mlinear_model\u001b[0m \u001b[0;32mimport\u001b[0m \u001b[0mElasticNetCV\u001b[0m\u001b[0;34m,\u001b[0m \u001b[0mElasticNet\u001b[0m\u001b[0;34m,\u001b[0m \u001b[0mLogisticRegressionCV\u001b[0m\u001b[0;34m\u001b[0m\u001b[0;34m\u001b[0m\u001b[0m\n",
      "\u001b[0;31mImportError\u001b[0m: cannot import name 'impute' from 'syserol.tensor' (/home/murphym/systemsSerology/syserol/tensor.py)"
     ]
    }
   ],
   "source": [
    "from syserol.model import function_predictions\n",
    "function_predictions('ADCD')"
   ]
  },
  {
   "cell_type": "markdown",
   "metadata": {},
   "source": [
    "### Two way classifications"
   ]
  },
  {
   "cell_type": "code",
   "execution_count": 24,
   "metadata": {},
   "outputs": [
    {
     "name": "stdout",
     "output_type": "stream",
     "text": [
      "[[ 0.05927277  0.02580436  0.03436842 -0.02211219 -0.01340742  0.05728238\n",
      "   0.09755588  0.00070365 -0.02052677  0.09352135  0.03866372  0.00593524\n",
      "   0.18994856  0.01258496 -0.01774774  0.00356744]]\n",
      "Confusion Matrix Controller vs. Progressor: [[53 32]\n",
      " [43 53]] \n",
      "\n",
      "[[-0.06089826 -0.05842416  0.121208    0.01814763  0.04377533 -0.00848825\n",
      "  -0.04475547 -0.01826323  0.04400121  0.15065762  0.10764237  0.07456897\n",
      "   0.04109286  0.09580199  0.00175914  0.06510124]]\n",
      "Confusion Matrix Viremic vs. Nonviremic: [[53 36]\n",
      " [21 71]] \n",
      "\n"
     ]
    },
    {
     "ename": "SyntaxError",
     "evalue": "'return' outside function (<ipython-input-24-8ed695cdf43f>, line 32)",
     "output_type": "error",
     "traceback": [
      "\u001b[0;36m  File \u001b[0;32m\"<ipython-input-24-8ed695cdf43f>\"\u001b[0;36m, line \u001b[0;32m32\u001b[0m\n\u001b[0;31m    return accuracyCvP, accuracyVvN\u001b[0m\n\u001b[0m    ^\u001b[0m\n\u001b[0;31mSyntaxError\u001b[0m\u001b[0;31m:\u001b[0m 'return' outside function\n"
     ]
    }
   ],
   "source": [
    "df = pd.DataFrame(factors[0])\n",
    "subj = load_file('meta-subjects')\n",
    "df = df.join(subj, how = 'inner')\n",
    "df = df.dropna()\n",
    "df_class = df[[\"class.cp\", \"class.nv\"]]\n",
    "df_variables = df.drop(['subject','class.etuv', 'class.cp', 'class.nv'], axis = 1)\n",
    "df_variables = df_variables.apply(zscore) \n",
    "\n",
    "Y1 = df_class['class.cp']\n",
    "Y1 = (Y1 == 'controller').astype(int) #controllers are 1s, progressors are 0s \n",
    "X1 = df_variables\n",
    "\n",
    "Y_pred1  = cross_val_predict(LogisticRegressionCV(), X1, Y1)\n",
    "model1 = LogisticRegressionCV().fit(X1, Y1)\n",
    "\n",
    "print(model1.coef_)\n",
    "accuracyCvP = confusion_matrix(Y1, Y_pred1)\n",
    "print(f\"Confusion Matrix Controller vs. Progressor: {accuracyCvP} \\n\")\n",
    "\n",
    "#Predict Viremic vs. Nonviremic\n",
    "Y2 = df_class['class.nv']\n",
    "Y2 = (Y2 == 'viremic').astype(int) #viremic = 1, nonviremic = 0\n",
    "X2 = df_variables \n",
    "\n",
    "Y_pred2  = cross_val_predict(LogisticRegressionCV(), X2, Y2)\n",
    "model2 = LogisticRegressionCV().fit(X2, Y2)\n",
    "\n",
    "print(model2.coef_)\n",
    "accuracyVvN = confusion_matrix(Y2, Y_pred2)\n",
    "print(f\"Confusion Matrix Viremic vs. Nonviremic: {accuracyVvN} \\n\")\n",
    "    \n",
    "return accuracyCvP, accuracyVvN"
   ]
  },
  {
   "cell_type": "markdown",
   "metadata": {},
   "source": [
    "### Testing"
   ]
  },
  {
   "cell_type": "code",
   "execution_count": 14,
   "metadata": {},
   "outputs": [
    {
     "name": "stdout",
     "output_type": "stream",
     "text": [
      "Cache hit.\n",
      "Correlation for component 1: 0.13755607421738442\n",
      "Cache hit.\n",
      "Correlation for component 2: 0.5093283441380014\n",
      "Cache hit.\n",
      "Correlation for component 3: 0.5848562346174517\n",
      "Cache hit.\n",
      "Correlation for component 4: 0.599495351833258\n",
      "Cache hit.\n",
      "Correlation for component 5: 0.6013739155429191\n",
      "Cache hit.\n",
      "Correlation for component 6: 0.6002591661146051\n",
      "Cache hit.\n",
      "Correlation for component 7: 0.6080779407745827\n",
      "Cache hit.\n",
      "Correlation for component 8: 0.6384542734818537\n",
      "Cache hit.\n",
      "Correlation for component 9: 0.6439040792563131\n",
      "Cache hit.\n",
      "Correlation for component 10: 0.6605961818414123\n",
      "Cache hit.\n",
      "Correlation for component 11: 0.7002495925606339\n",
      "Cache hit.\n",
      "Correlation for component 12: 0.6923847205573144\n",
      "Cache hit.\n",
      "Correlation for component 13: 0.7001317984680095\n",
      "Cache hit.\n",
      "Correlation for component 14: 0.7244304612365342\n",
      "Cache hit.\n",
      "Correlation for component 15: 0.6919634649037252\n"
     ]
    }
   ],
   "source": [
    "def test_predictions(function = 'ADCD'):\n",
    "    cube, glyCube = createCube()\n",
    "    df, mapped = importFunction()\n",
    "    glycan, dfGlycan = importGlycan()\n",
    "    corr = list()\n",
    "    \n",
    "    for comp in np.arange(1, 16):\n",
    "        tensorFac, matrixFac, R2XX = perform_CMTF(cube, glyCube, comp)\n",
    "        reconMatrix = kruskal_to_tensor(matrixFac)\n",
    "        x = mapped[function]\n",
    "        j = len(glycan) + x\n",
    "        orig = list()\n",
    "        recon = list()\n",
    "        for i in range(len(glyCube)):\n",
    "            if (np.isfinite(glyCube[i,j])):\n",
    "                orig.append(glyCube[i,j])\n",
    "                recon.append(reconMatrix[i,j])\n",
    "        corr.append(np.sqrt(r2_score(orig, recon)))\n",
    "        print(f\"Correlation for component {comp}: {np.sqrt(r2_score(orig, recon))}\")\n",
    "    \n",
    "    return corr\n",
    "R = test_predictions('CD107a')"
   ]
  },
  {
   "cell_type": "code",
   "execution_count": null,
   "metadata": {},
   "outputs": [],
   "source": [
    "def makeFigure():\n",
    "    df, mapped = importFunction()\n",
    "    ax, f = getSetup((10, 10), (3, 2))\n",
    "    \n",
    "    for i, func in enumerate(mapped):\n",
    "        corrs = test_predictions(func)\n",
    "        x = np.arange(1, 16)\n",
    "        ax[i].plot(x, corrs)\n",
    "        ax[i].set_ylabel(\"Correlation\")\n",
    "        ax[i].set_xlabel(\"# Components\")\n",
    "        ax[i].set_title(func)\n",
    "        ax[i].set_ylim(bottom=0.0)\n",
    "        \n",
    "    subplotLabel(ax)\n",
    "    return f\n",
    "f = makeFigure()"
   ]
  },
  {
   "cell_type": "code",
   "execution_count": 7,
   "metadata": {},
   "outputs": [
    {
     "name": "stdout",
     "output_type": "stream",
     "text": [
      "ADCD 0\n",
      "ADCC 1\n",
      "ADNP 2\n",
      "CD107a 3\n",
      "IFNy 4\n",
      "MIP1b 5\n"
     ]
    }
   ],
   "source": [
    "df, mapped = importFunction()\n",
    "for i, func in enumerate(mapped):\n",
    "        print(func, i)"
   ]
  },
  {
   "cell_type": "code",
   "execution_count": 7,
   "metadata": {},
   "outputs": [
    {
     "ename": "TypeError",
     "evalue": "unsupported operand type(s) for -: 'builtin_function_or_method' and 'builtin_function_or_method'",
     "output_type": "error",
     "traceback": [
      "\u001b[0;31m---------------------------------------------------------------------------\u001b[0m",
      "\u001b[0;31mTypeError\u001b[0m                                 Traceback (most recent call last)",
      "\u001b[0;32m<ipython-input-7-503dbc02fc88>\u001b[0m in \u001b[0;36m<module>\u001b[0;34m\u001b[0m\n\u001b[1;32m      4\u001b[0m \u001b[0mrecon\u001b[0m \u001b[0;34m=\u001b[0m \u001b[0mnp\u001b[0m\u001b[0;34m.\u001b[0m\u001b[0marray\u001b[0m\u001b[0;34m\u001b[0m\u001b[0;34m\u001b[0m\u001b[0m\n\u001b[1;32m      5\u001b[0m \u001b[0mnp\u001b[0m\u001b[0;34m.\u001b[0m\u001b[0mappend\u001b[0m\u001b[0;34m(\u001b[0m\u001b[0mrecon\u001b[0m\u001b[0;34m,\u001b[0m \u001b[0;36m20\u001b[0m\u001b[0;34m)\u001b[0m\u001b[0;34m\u001b[0m\u001b[0;34m\u001b[0m\u001b[0m\n\u001b[0;32m----> 6\u001b[0;31m \u001b[0mrecon\u001b[0m\u001b[0;34m-\u001b[0m\u001b[0morig\u001b[0m\u001b[0;34m\u001b[0m\u001b[0;34m\u001b[0m\u001b[0m\n\u001b[0m",
      "\u001b[0;31mTypeError\u001b[0m: unsupported operand type(s) for -: 'builtin_function_or_method' and 'builtin_function_or_method'"
     ]
    }
   ],
   "source": [
    "from numpy import append\n",
    "orig = np.array\n",
    "np.append(orig, 10)\n",
    "recon = np.array\n",
    "np.append(recon, 20)\n",
    "recon-orig"
   ]
  },
  {
   "cell_type": "code",
   "execution_count": null,
   "metadata": {},
   "outputs": [],
   "source": [
    "glycan, dfGlycan = importGlycan()\n"
   ]
  },
  {
   "cell_type": "code",
   "execution_count": 3,
   "metadata": {},
   "outputs": [
    {
     "name": "stdout",
     "output_type": "stream",
     "text": [
      "Cache hit.\n",
      "Correlation for component 1: 0.13693347808009843\n",
      "Cache hit.\n",
      "Correlation for component 2: 0.5139629816450658\n",
      "Cache hit.\n",
      "Correlation for component 3: 0.6020114293327617\n",
      "Cache hit.\n",
      "Correlation for component 4: 0.630040399972501\n"
     ]
    },
    {
     "data": {
      "text/plain": [
       "[0.13693347808009843,\n",
       " 0.5139629816450658,\n",
       " 0.6020114293327617,\n",
       " 0.630040399972501]"
      ]
     },
     "execution_count": 3,
     "metadata": {},
     "output_type": "execute_result"
    }
   ],
   "source": [
    "from syserol.model import test_predictions\n",
    "test_predictions('IFNy')"
   ]
  },
  {
   "cell_type": "markdown",
   "metadata": {},
   "source": [
    "### Plotting"
   ]
  },
  {
   "cell_type": "code",
   "execution_count": 32,
   "metadata": {},
   "outputs": [],
   "source": [
    "import matplotlib.pyplot as plt\n",
    "\n",
    "tensorFac2, matrixFac2, R2XX2 = perform_CMTF(cube, glyCube, 10)"
   ]
  },
  {
   "cell_type": "code",
   "execution_count": 16,
   "metadata": {},
   "outputs": [
    {
     "data": {
      "image/png": "[encoded data removed]",
      "text/plain": [
       "<Figure size 720x720 with 6 Axes>"
      ]
     },
     "metadata": {},
     "output_type": "display_data"
    }
   ],
   "source": [
    "size = 5\n",
    "ax, f = getSetup((10, 10), (3, 2))\n",
    "\n",
    "subjects = np.squeeze(tensorFac2.factors[0])\n",
    "ax[0].plot(subjects[:, 0], subjects[:, 1], '.')\n",
    "ax[0].set_title(\"Tensor Fac, Subjects\", fontsize = 15)\n",
    "\n",
    "for i in range(size):\n",
    "    ax[i].set_ylabel(\"Component 2\")\n",
    "    ax[i].set_xlabel(\"Component 1\")\n",
    "subplotLabel(ax)"
   ]
  },
  {
   "cell_type": "code",
   "execution_count": null,
   "metadata": {},
   "outputs": [],
   "source": []
  }
 ],
 "metadata": {
  "kernelspec": {
   "display_name": "Python 3",
   "language": "python",
   "name": "python3"
  },
  "language_info": {
   "codemirror_mode": {
    "name": "ipython",
    "version": 3
   },
   "file_extension": ".py",
   "mimetype": "text/x-python",
   "name": "python",
   "nbconvert_exporter": "python",
   "pygments_lexer": "ipython3",
   "version": "3.8.3"
  }
 },
 "nbformat": 4,
 "nbformat_minor": 4
}
